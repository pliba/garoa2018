{
 "cells": [
  {
   "cell_type": "markdown",
   "metadata": {},
   "source": [
    "# Simple evaluator of arithmetic s-expressions\n",
    "\n",
    "*s-expressions* are parenthesized expressions with prefix operators, used in Lisp and other languages. For example 6 × 7 is written as `(* 6 7)`. \n",
    "\n",
    "An expression evaluator is a recursive function at the core of many language interpreters and compilers."
   ]
  },
  {
   "cell_type": "markdown",
   "metadata": {},
   "source": [
    "## Scanner\n",
    "\n",
    "The scanner converts source code into tokens to be parsed and evaluated. Our scanner is [Norvig's](http://norvig.com/lispy.html) `tokenize` function:"
   ]
  },
  {
   "cell_type": "code",
   "execution_count": 1,
   "metadata": {},
   "outputs": [],
   "source": [
    "def tokenize(chars: str) -> list:\n",
    "    \"Convert a string of characters into a list of tokens.\"\n",
    "    return chars.replace('(', ' ( ').replace(')', ' ) ').split()"
   ]
  },
  {
   "cell_type": "markdown",
   "metadata": {},
   "source": [
    "Some examples of `tokenize`:"
   ]
  },
  {
   "cell_type": "code",
   "execution_count": 2,
   "metadata": {},
   "outputs": [
    {
     "data": {
      "text/plain": [
       "['10']"
      ]
     },
     "execution_count": 2,
     "metadata": {},
     "output_type": "execute_result"
    }
   ],
   "source": [
    "tokenize('10')"
   ]
  },
  {
   "cell_type": "code",
   "execution_count": 3,
   "metadata": {},
   "outputs": [
    {
     "data": {
      "text/plain": [
       "['(', '+', '2', '(', '*', '3', '5', ')', ')']"
      ]
     },
     "execution_count": 3,
     "metadata": {},
     "output_type": "execute_result"
    }
   ],
   "source": [
    "tokenize('(+ 2 (* 3 5))')"
   ]
  },
  {
   "cell_type": "markdown",
   "metadata": {},
   "source": [
    "## Parser and evaluator\n",
    "\n",
    "Real interpreters usually have a parser that builds an AST (Abstract Syntax Tree) or some other representation to simplify the evaluator logic. This example is so simple that parsing and evaluation are done by the same function:"
   ]
  },
  {
   "cell_type": "code",
   "execution_count": 4,
   "metadata": {},
   "outputs": [],
   "source": [
    "def evaluate(tokens):\n",
    "    head = tokens.pop(0)\n",
    "    if head == '(':\n",
    "        op = OPERATORS[tokens.pop(0)]\n",
    "        args = []\n",
    "        while tokens and tokens[0] != ')':\n",
    "            args.append(evaluate(tokens))\n",
    "        tokens.pop(0)  # drop ')'\n",
    "        return op(*args)\n",
    "    else:\n",
    "        return float(head)"
   ]
  },
  {
   "cell_type": "markdown",
   "metadata": {},
   "source": [
    "The code above requires some study to make sense...\n",
    "\n",
    "In order to make the evaluator work, we need to define the operators our mini-language will support. Here is a start:"
   ]
  },
  {
   "cell_type": "code",
   "execution_count": 5,
   "metadata": {},
   "outputs": [],
   "source": [
    "OPERATORS = {\n",
    "    '+': lambda *args: sum(args),\n",
    "    '-': lambda a, b: a - b,\n",
    "    '*': lambda a, b: a * b,\n",
    "    '/': lambda a, b: a / b,\n",
    "}"
   ]
  },
  {
   "cell_type": "markdown",
   "metadata": {},
   "source": [
    "Now we can test the evaluator, with the help of the simple `calc` function:"
   ]
  },
  {
   "cell_type": "code",
   "execution_count": 6,
   "metadata": {},
   "outputs": [],
   "source": [
    "def calc(source):\n",
    "    return evaluate(tokenize(source))"
   ]
  },
  {
   "cell_type": "code",
   "execution_count": 7,
   "metadata": {},
   "outputs": [
    {
     "data": {
      "text/plain": [
       "17.0"
      ]
     },
     "execution_count": 7,
     "metadata": {},
     "output_type": "execute_result"
    }
   ],
   "source": [
    "calc('17')"
   ]
  },
  {
   "cell_type": "code",
   "execution_count": 8,
   "metadata": {},
   "outputs": [
    {
     "data": {
      "text/plain": [
       "0.3333333333333333"
      ]
     },
     "execution_count": 8,
     "metadata": {},
     "output_type": "execute_result"
    }
   ],
   "source": [
    "calc('(/ 1 3)')"
   ]
  },
  {
   "cell_type": "code",
   "execution_count": 9,
   "metadata": {},
   "outputs": [
    {
     "data": {
      "text/plain": [
       "37.77777777777778"
      ]
     },
     "execution_count": 9,
     "metadata": {},
     "output_type": "execute_result"
    }
   ],
   "source": [
    "calc('(/ (* (- 100 32) 5) 9)')"
   ]
  },
  {
   "cell_type": "markdown",
   "metadata": {},
   "source": [
    "The example above is a ℉ to ℃ conversion: 100 ℉ is approximately 37.7 ℃."
   ]
  },
  {
   "cell_type": "markdown",
   "metadata": {},
   "source": [
    "Error handling is left as an exercise for the reader."
   ]
  },
  {
   "cell_type": "markdown",
   "metadata": {},
   "source": [
    "## REPL\n",
    "\n",
    "An interactive interpreter implements a REPL. This is one:"
   ]
  },
  {
   "cell_type": "code",
   "execution_count": 12,
   "metadata": {},
   "outputs": [],
   "source": [
    "QUIT_COMMAND = '.q'\n",
    "\n",
    "def repl():\n",
    "    \"\"\"Read-Eval-Print-Loop\"\"\"\n",
    "    print(f'To exit, type {QUIT_COMMAND}')\n",
    "\n",
    "    while True:\n",
    "        line = input('> ')                 # Read\n",
    "        if line == QUIT_COMMAND:\n",
    "            break\n",
    "        value = evaluate(tokenize(line))   # Eval\n",
    "        print(value)                       # Print"
   ]
  },
  {
   "cell_type": "markdown",
   "metadata": {},
   "source": [
    "Run the REPL:"
   ]
  },
  {
   "cell_type": "code",
   "execution_count": 13,
   "metadata": {
    "scrolled": true
   },
   "outputs": [
    {
     "name": "stdout",
     "output_type": "stream",
     "text": [
      "To exit, type .q\n",
      "> (* 11111 11111)\n",
      "123454321.0\n",
      "> (+ (/ (* 9 37.8) 5) 32)\n",
      "100.03999999999999\n",
      "> (+ 1 2 3 4 5 6 7 8 9 10)\n",
      "55.0\n",
      "> .q\n"
     ]
    }
   ],
   "source": [
    "repl()"
   ]
  }
 ],
 "metadata": {
  "kernelspec": {
   "display_name": "Python 3",
   "language": "python",
   "name": "python3"
  },
  "language_info": {
   "codemirror_mode": {
    "name": "ipython",
    "version": 3
   },
   "file_extension": ".py",
   "mimetype": "text/x-python",
   "name": "python",
   "nbconvert_exporter": "python",
   "pygments_lexer": "ipython3",
   "version": "3.7.0"
  }
 },
 "nbformat": 4,
 "nbformat_minor": 2
}
